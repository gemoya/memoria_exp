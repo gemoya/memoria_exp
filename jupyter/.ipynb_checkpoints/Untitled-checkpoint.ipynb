{
 "cells": [
  {
   "cell_type": "code",
   "execution_count": 114,
   "metadata": {},
   "outputs": [],
   "source": [
    "import pandas as pd\n",
    "import numpy as np\n",
    "import matplotlib.pyplot as plt\n",
    "import seaborn as sns\n",
    "sns.set_style(\"whitegrid\")\n",
    "\n",
    "%matplotlib inline"
   ]
  },
  {
   "cell_type": "code",
   "execution_count": 115,
   "metadata": {},
   "outputs": [],
   "source": [
    "\"\"\"\n",
    "Esta parte te la puedes saltar, era porque el formato\n",
    "del archivo estaba raro\n",
    "\"\"\"\n",
    "data = pd.read_csv(\"head6.txt\")\n",
    "data.columns\n",
    "columns = [4,8,16,32,64, \"type\"]\n",
    "\n",
    "df = []\n",
    "for row,d in data.iterrows():\n",
    "    row = d.values[0].split()[1:]\n",
    "    df.append(row)\n",
    "df = pd.DataFrame(df)\n",
    "df.columns = columns"
   ]
  },
  {
   "cell_type": "code",
   "execution_count": 116,
   "metadata": {},
   "outputs": [],
   "source": [
    "\"\"\"\n",
    "Acá es donde se hace la magia, creas una nuevo dataframe\n",
    "con las variables iops, type y variable (no se como se llama esta)\n",
    "\"\"\"\n",
    "df_merged = []\n",
    "for column in df.columns:\n",
    "    if column != \"type\": #Por cada columna que no es test creas un dataframe nuevo, forzando la columna \"variable\"\n",
    "        iops = df.loc[:,column]\n",
    "        t = df.loc[:,\"type\"]\n",
    "        df_column = pd.DataFrame({\"iops\":iops, \"type\":type, \"variable\": column}) \n",
    "        df_merged.append(df_column)\n",
    "df_merged = pd.concat(df_merged) #Concatenas todo y paff un dataframe "
   ]
  },
  {
   "cell_type": "code",
   "execution_count": 117,
   "metadata": {},
   "outputs": [],
   "source": [
    "\"\"\"\n",
    "Esto también te lo saltas, era solo para probar\n",
    "\"\"\"\n",
    "df_merged2 = df_merged.copy()\n",
    "df_merged2[\"type\"] = \"Testo\""
   ]
  },
  {
   "cell_type": "code",
   "execution_count": 118,
   "metadata": {},
   "outputs": [],
   "source": [
    "\"\"\"\n",
    "Acá el problema me salia que era todo string, por lo que castié las cosas \n",
    "a su debida clase\n",
    "\"\"\"\n",
    "df_final_form = pd.concat([df_merged,df_merged2])\n",
    "df_final_form[\"type\"] = df_final_form.type.astype(\"category\")\n",
    "df_final_form[\"variable\"] = df_final_form.variable.astype(\"int\")\n",
    "df_final_form[\"iops\"] = df_final_form.iops.astype(\"int\")"
   ]
  },
  {
   "cell_type": "code",
   "execution_count": 119,
   "metadata": {},
   "outputs": [
    {
     "data": {
      "text/plain": [
       "<matplotlib.axes._subplots.AxesSubplot at 0x28ca5d8f198>"
      ]
     },
     "execution_count": 119,
     "metadata": {},
     "output_type": "execute_result"
    },
    {
     "data": {
      "image/png": "[encoded data removed]",
      "text/plain": [
       "<matplotlib.figure.Figure at 0x28ca5c81c50>"
      ]
     },
     "metadata": {},
     "output_type": "display_data"
    }
   ],
   "source": [
    "sns.boxplot(data=df_final_form,x=\"variable\", y=\"iops\", hue=\"type\")"
   ]
  },
  {
   "cell_type": "code",
   "execution_count": null,
   "metadata": {},
   "outputs": [],
   "source": []
  }
 ],
 "metadata": {
  "kernelspec": {
   "display_name": "Python 2",
   "language": "python",
   "name": "python2"
  },
  "language_info": {
   "codemirror_mode": {
    "name": "ipython",
    "version": 2
   },
   "file_extension": ".py",
   "mimetype": "text/x-python",
   "name": "python",
   "nbconvert_exporter": "python",
   "pygments_lexer": "ipython2",
   "version": "2.7.14"
  }
 },
 "nbformat": 4,
 "nbformat_minor": 2
}
