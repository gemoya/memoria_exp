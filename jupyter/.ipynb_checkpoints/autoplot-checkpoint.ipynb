{
 "cells": [
  {
   "cell_type": "code",
   "execution_count": 1,
   "metadata": {
    "collapsed": true
   },
   "outputs": [],
   "source": [
    "import matplotlib.pyplot as plt\n",
    "import matplotlib.patches as mpatches\n",
    "import numpy as np\n",
    "import os\n",
    "from random import choice\n"
   ]
  },
  {
   "cell_type": "code",
   "execution_count": 2,
   "metadata": {
    "collapsed": true
   },
   "outputs": [],
   "source": [
    "BASE_WORKDIR='data/iops2/'\n",
    "\n"
   ]
  },
  {
   "cell_type": "code",
   "execution_count": 11,
   "metadata": {
    "collapsed": true
   },
   "outputs": [],
   "source": [
    "\n",
    "def read_values(backend, test_subject, test_type, mix_type, vars_dict):\n",
    "\n",
    "    for var in vars_dict.keys():\n",
    "\n",
    "        path = BASE_WORKDIR + '/' + backend + '/' + test_subject + '/' + test_type + '/' + str(var) + '/' + mix_type + '/'\n",
    "        \n",
    "        for filename in os.listdir(path):\n",
    "            f = open(path + filename, 'r')\n",
    "            value = f.read().strip('\\n')\n",
    "            vars_dict[var].append(int(value))\n",
    "            \n",
    "            \n",
    "            f.close()\n",
    "            \n",
    "    return vars_dict\n",
    "            \n",
    "            \n",
    "            \n",
    "            \n",
    "def plot_values(x_labels, xlabel, y_host, y_pod, ylabel, title, figname):\n",
    "    \n",
    "    x = np.arange(1,len(x_labels)+1)\n",
    "\n",
    "    plt.bar(x-0.125, y_host, color='r', width = 0.25)\n",
    "    plt.bar(x+0.125, y_pod, color='b', width = 0.25)\n",
    "    \n",
    "    plt.title(title)\n",
    "    plt.ylabel(ylabel)\n",
    "    plt.xlabel(xlabel)\n",
    "    plt.xticks(x, x_labels)\n",
    "    \n",
    "    red_patch = mpatches.Patch(color='red', label='Host')\n",
    "    blue_patch = mpatches.Patch(color='blue', label='Pod')\n",
    "    plt.legend(handles=[red_patch,blue_patch])\n",
    "\n",
    "\n",
    "    plt.savefig(figname)\n",
    "    plt.show()\n",
    "\n",
    "\n",
    "def take_median(vars_dict):\n",
    "    medians_list = []\n",
    "    #print sorted(vars_dict.keys())\n",
    "    for key in sorted(vars_dict.keys()):\n",
    "        median = np.median(vars_dict[key]) \n",
    "    #    print vars_dict[key]\n",
    "    #    print median\n",
    "        medians_list.append(median)\n",
    "     #   print medians_list\n",
    "        \n",
    "    return np.asarray(medians_list)\n",
    "\n",
    "def take_mean(vars_dict):\n",
    "    means_list = []\n",
    "    for key in sorted(vars_dict.keys()):\n",
    "        mean = np.mean(vars_dict[key]) \n",
    "    #    print vars_dict[key]\n",
    "    #    print median\n",
    "        means_list.append(mean)\n",
    "     #   print medians_list\n",
    "        \n",
    "    return means_list\n",
    "\n",
    "def take_std(vars_dict):\n",
    "    stds_list = []\n",
    "    for key in sorted(vars_dict.keys()):\n",
    "        std = np.std(vars_dict[key]) \n",
    "    #    print vars_dict[key]\n",
    "    #    print median\n",
    "        stds_list.append(std)\n",
    "     #   print medians_list\n",
    "        \n",
    "    return stds_list\n",
    "    \n",
    "    \n",
    "\n",
    "    \n",
    "    \n",
    "\n",
    "\n",
    "            \n",
    "\n",
    "\n",
    "\n",
    "    "
   ]
  },
  {
   "cell_type": "code",
   "execution_count": 6,
   "metadata": {
    "collapsed": true
   },
   "outputs": [],
   "source": [
    "# test code\n",
    "\n",
    "# get read IOPS from blocksize test on host using gluster\n",
    "host_gluster_bs_read_dict = { 4: [], 8: [], 16: [], 32: [], 64: [] }\n",
    "host_gluster_bs_read_iops = read_values('gluster','host','test_bs', 'read', host_gluster_bs_read_dict)\n",
    "\n",
    "\n",
    "\n",
    "host_gluster_bs_write_dict = { 4: [], 8: [], 16: [], 32: [], 64: [] }\n",
    "host_gluster_bs_write_iops = read_values('gluster','host','test_bs', 'write', host_gluster_bs_write_dict)\n",
    "\n",
    "#pod_gluster_bs_read_dict = { \"4\": [], \"8\": [], \"16\": [], \"32\": [], \"64\": [] }\n",
    "#pod_gluster_bs_read_iops = read_values('gluster','pod','test_bs', 'read', pod_gluster_bs_read_dict)\n"
   ]
  },
  {
   "cell_type": "code",
   "execution_count": null,
   "metadata": {
    "collapsed": true
   },
   "outputs": [],
   "source": [
    "# GLUSTER HOST POD RAMPTIME\n",
    "\n",
    "host_gluster_rt_read_dict = { 10: [], 20: [], 30: [], 40: [], 50: [], 60: [] }\n",
    "host_gluster_rt_read_iops = read_values('gluster','host','test_rt', 'read', host_gluster_rt_read_dict)\n",
    "\n",
    "\n",
    "host_gluster_rt_write_dict = { 10: [], 20: [], 30: [], 40: [], 50: [], 60: [] }\n",
    "host_gluster_rt_write_iops = read_values('gluster','host','test_rt', 'write', host_gluster_rt_write_dict)"
   ]
  },
  {
   "cell_type": "code",
   "execution_count": null,
   "metadata": {
    "collapsed": true
   },
   "outputs": [],
   "source": [
    "# GLUSTER HOSTIODEPTH\n",
    "\n",
    "host_gluster_depth_read_dict = { 4: [], 8: [], 16: [], 32: [], 64: [] }\n",
    "host_gluster_depth_read_iops = read_values('gluster','host','test_depth', 'read', host_gluster_depth_read_dict)\n",
    "\n",
    "\n",
    "host_gluster_depth_write_dict = { 4: [], 8: [], 16: [], 32: [], 64: [] }\n",
    "host_gluster_depth_write_iops = read_values('gluster','host','test_depth', 'write', host_gluster_depth_write_dict)"
   ]
  },
  {
   "cell_type": "code",
   "execution_count": 7,
   "metadata": {
    "collapsed": true
   },
   "outputs": [],
   "source": [
    "# GLUSTER POD BLOCKSIZE\n",
    "\n",
    "pod_gluster_bs_read_dict = { 4: [], 8: [], 16: [], 32: [], 64: [] }\n",
    "pod_gluster_bs_read_iops = read_values('gluster','pod','test_bs', 'read', pod_gluster_bs_read_dict)\n",
    "\n",
    "\n",
    "\n",
    "\n",
    "pod_gluster_bs_write_dict = { 4: [], 8: [], 16: [], 32: [], 64: [] }\n",
    "pod_gluster_bs_write_iops = read_values('gluster','pod','test_bs', 'write', pod_gluster_bs_write_dict)\n",
    "\n",
    "\n",
    "\n",
    "\n",
    "\n",
    "\n",
    "\n",
    "\n"
   ]
  },
  {
   "cell_type": "code",
   "execution_count": null,
   "metadata": {
    "collapsed": true
   },
   "outputs": [],
   "source": [
    "# GLUSTER POD RAMPTIME\n",
    "\n",
    "pod_gluster_rt_read_dict = { 10: [], 20: [], 30: [], 40: [], 50: [], 60: [] }\n",
    "pod_gluster_rt_read_iops = read_values('gluster','pod','test_rt', 'read', pod_gluster_rt_read_dict)\n",
    "\n",
    "\n",
    "pod_gluster_rt_write_dict = { 10: [], 20: [], 30: [], 40: [], 50: [], 60: [] }\n",
    "pod_gluster_rt_write_iops = read_values('gluster','pod','test_rt', 'write', pod_gluster_rt_write_dict)"
   ]
  },
  {
   "cell_type": "code",
   "execution_count": null,
   "metadata": {
    "collapsed": true
   },
   "outputs": [],
   "source": [
    "# GLUSTER POD IODEPTH\n",
    "\n",
    "pod_gluster_depth_read_dict = { 4: [], 8: [], 16: [], 32: [], 64: [] }\n",
    "pod_gluster_depth_read_iops = read_values('gluster','pod','test_rt', 'read', pod_gluster_depth_read_dict)\n",
    "\n",
    "\n",
    "pod_gluster_depth_write_dict = { 4: [], 8: [], 16: [], 32: [], 64: [] }\n",
    "pod_gluster_depth_write_iops = read_values('gluster','pod','test_rt', 'write', pod_gluster_depth_write_dict)"
   ]
  },
  {
   "cell_type": "code",
   "execution_count": null,
   "metadata": {
    "collapsed": true
   },
   "outputs": [],
   "source": [
    "######### RBD ##############"
   ]
  },
  {
   "cell_type": "code",
   "execution_count": 18,
   "metadata": {},
   "outputs": [],
   "source": [
    "# RBD HOST BLOCKSIZE\n",
    "\n",
    "host_rbd_bs_read_dict = { 4: [], 8: [], 16: [], 32: [], 64: [] }\n",
    "host_rbd_bs_read_iops = read_values('rbd','host','test_bs', 'read', host_rbd_bs_read_dict)\n",
    "\n",
    "\n",
    "\n",
    "\n",
    "host_rbd_bs_write_dict = { 4: [], 8: [], 16: [], 32: [], 64: [] }\n",
    "host_rbd_bs_write_iops = read_values('rbd','host','test_bs', 'write', host_rbd_bs_write_dict)\n",
    "\n",
    "\n"
   ]
  },
  {
   "cell_type": "code",
   "execution_count": null,
   "metadata": {
    "collapsed": true
   },
   "outputs": [],
   "source": [
    "# RBD POD BLOCKSIZE\n",
    "\n",
    "pod_rbd_bs_read_dict = { 4: [], 8: [], 16: [], 32: [], 64: [] }\n",
    "pod_rbd_bs_read_iops = read_values('rbd','pod','test_bs', 'read', pod_rbd_bs_read_dict)\n",
    "\n",
    "\n",
    "\n",
    "\n",
    "pod_rbd_bs_write_dict = { 4: [], 8: [], 16: [], 32: [], 64: [] }\n",
    "pod_rbd_bs_write_iops = read_values('rbd','pod','test_bs', 'write', pod_rbd_bs_write_dict)\n",
    "\n",
    "\n"
   ]
  },
  {
   "cell_type": "code",
   "execution_count": 12,
   "metadata": {},
   "outputs": [
    {
     "data": {
      "image/png": "[encoded data removed]",
      "text/plain": [
       "<matplotlib.figure.Figure at 0x1100dffd0>"
      ]
     },
     "metadata": {},
     "output_type": "display_data"
    }
   ],
   "source": [
    "\n",
    "#plot_values(x_labels, xlabel, y_host, y_pod, ylabel, title, figname)\n",
    "\n",
    "# IOPS from blocksize test on host using gluster\n",
    "x_labels = sorted(host_gluster_bs_read_dict.keys())\n",
    "\n",
    "xlabel = \"Block Size\"\n",
    "y_host = take_median(host_gluster_bs_read_iops)\n",
    "y_pod = take_median(host_gluster_bs_write_iops)\n",
    "ylabel= \"IOPS\"\n",
    "title = \"FIO Test on Gluster: Block Size vs IOPS\"\n",
    "plot_values(x_labels, xlabel, y_host, y_pod, ylabel, title, \"test\" )\n",
    "\n",
    "\n"
   ]
  },
  {
   "cell_type": "code",
   "execution_count": 15,
   "metadata": {},
   "outputs": [
    {
     "data": {
      "image/png": "[encoded data removed]",
      "text/plain": [
       "<matplotlib.figure.Figure at 0x1191ad750>"
      ]
     },
     "metadata": {},
     "output_type": "display_data"
    },
    {
     "data": {
      "image/png": "[encoded data removed]",
      "text/plain": [
       "<matplotlib.figure.Figure at 0x119083690>"
      ]
     },
     "metadata": {},
     "output_type": "display_data"
    }
   ],
   "source": [
    "# GLUSTER BLOCK SIZE READ\n",
    "x_labels = sorted(host_gluster_bs_read_dict.keys())\n",
    "\n",
    "xlabel = \"Block Size\"\n",
    "y_host = take_median(host_gluster_bs_read_iops)\n",
    "y_pod = take_median(pod_gluster_bs_read_iops)\n",
    "ylabel= \"Read IOPS\"\n",
    "title = \"FIO Test on Gluster: Block Size vs Read IOPS\"\n",
    "plot_values(x_labels, xlabel, y_host, y_pod, ylabel, title, \"test\" )\n",
    "\n",
    "\n",
    "\n",
    "# GLUSTER BLOCK SIZE WRITE\n",
    "x_labels = sorted(host_gluster_bs_read_dict.keys())\n",
    "\n",
    "xlabel = \"Block Size\"\n",
    "y_host = take_median(host_gluster_bs_write_iops)\n",
    "y_pod = take_median(pod_gluster_bs_write_iops)\n",
    "ylabel= \"Write IOPS\"\n",
    "title = \"FIO Test on Gluster: Block Size vs Write IOPS\"\n",
    "plot_values(x_labels, xlabel, y_host, y_pod, ylabel, title, \"test\" )\n",
    "\n"
   ]
  },
  {
   "cell_type": "code",
   "execution_count": 16,
   "metadata": {},
   "outputs": [
    {
     "ename": "NameError",
     "evalue": "name 'host_rbd_bs_read_iops' is not defined",
     "output_type": "error",
     "traceback": [
      "\u001b[0;31m---------------------------------------------------------------------------\u001b[0m",
      "\u001b[0;31mNameError\u001b[0m                                 Traceback (most recent call last)",
      "\u001b[0;32m<ipython-input-16-199050461a52>\u001b[0m in \u001b[0;36m<module>\u001b[0;34m()\u001b[0m\n\u001b[1;32m      3\u001b[0m \u001b[0;34m\u001b[0m\u001b[0m\n\u001b[1;32m      4\u001b[0m \u001b[0mxlabel\u001b[0m \u001b[0;34m=\u001b[0m \u001b[0;34m\"Block Size\"\u001b[0m\u001b[0;34m\u001b[0m\u001b[0m\n\u001b[0;32m----> 5\u001b[0;31m \u001b[0my_host\u001b[0m \u001b[0;34m=\u001b[0m \u001b[0mtake_median\u001b[0m\u001b[0;34m(\u001b[0m\u001b[0mhost_rbd_bs_read_iops\u001b[0m\u001b[0;34m)\u001b[0m\u001b[0;34m\u001b[0m\u001b[0m\n\u001b[0m\u001b[1;32m      6\u001b[0m \u001b[0my_pod\u001b[0m \u001b[0;34m=\u001b[0m \u001b[0mtake_median\u001b[0m\u001b[0;34m(\u001b[0m\u001b[0mpod_rbd_bs_read_iops\u001b[0m\u001b[0;34m)\u001b[0m\u001b[0;34m\u001b[0m\u001b[0m\n\u001b[1;32m      7\u001b[0m \u001b[0mylabel\u001b[0m\u001b[0;34m=\u001b[0m \u001b[0;34m\"Read IOPS\"\u001b[0m\u001b[0;34m\u001b[0m\u001b[0m\n",
      "\u001b[0;31mNameError\u001b[0m: name 'host_rbd_bs_read_iops' is not defined"
     ]
    }
   ],
   "source": [
    "# RBD BLOCK SIZE READ\n",
    "x_labels = sorted(host_gluster_bs_read_dict.keys())\n",
    "\n",
    "xlabel = \"Block Size\"\n",
    "y_host = take_median(host_rbd_bs_read_iops)\n",
    "y_pod = take_median(pod_rbd_bs_read_iops)\n",
    "ylabel= \"Read IOPS\"\n",
    "title = \"FIO Test on RBD: Block Size vs Read IOPS\"\n",
    "plot_values(x_labels, xlabel, y_host, y_pod, ylabel, title, \"test\" )\n",
    "\n",
    "\n",
    "\n",
    "# RBD BLOCK SIZE WRITE\n",
    "x_labels = sorted(host_gluster_bs_read_dict.keys())\n",
    "\n",
    "xlabel = \"Block Size\"\n",
    "y_host = take_median(host_rbd_bs_write_iops)\n",
    "y_pod = take_median(pod_rbd_bs_write_iops)\n",
    "ylabel= \"Write IOPS\"\n",
    "title = \"FIO Test on RBD: Block Size vs Write IOPS\"\n",
    "plot_values(x_labels, xlabel, y_host, y_pod, ylabel, title, \"test\" )\n",
    "\n"
   ]
  },
  {
   "cell_type": "code",
   "execution_count": null,
   "metadata": {
    "collapsed": true
   },
   "outputs": [],
   "source": []
  },
  {
   "cell_type": "code",
   "execution_count": null,
   "metadata": {
    "collapsed": true
   },
   "outputs": [],
   "source": []
  },
  {
   "cell_type": "code",
   "execution_count": null,
   "metadata": {
    "collapsed": true
   },
   "outputs": [],
   "source": []
  },
  {
   "cell_type": "code",
   "execution_count": 123,
   "metadata": {},
   "outputs": [
    {
     "ename": "KeyError",
     "evalue": "0",
     "output_type": "error",
     "traceback": [
      "\u001b[0;31m---------------------------------------------------------------------------\u001b[0m",
      "\u001b[0;31mKeyError\u001b[0m                                  Traceback (most recent call last)",
      "\u001b[0;32m<ipython-input-123-b8f20f0b99cb>\u001b[0m in \u001b[0;36m<module>\u001b[0;34m()\u001b[0m\n\u001b[1;32m      2\u001b[0m \u001b[0md\u001b[0m \u001b[0;34m=\u001b[0m \u001b[0;34m{\u001b[0m \u001b[0;36m4\u001b[0m\u001b[0;34m:\u001b[0m \u001b[0;34m[\u001b[0m\u001b[0;34m]\u001b[0m\u001b[0;34m,\u001b[0m \u001b[0;36m8\u001b[0m\u001b[0;34m:\u001b[0m \u001b[0;34m[\u001b[0m\u001b[0;34m]\u001b[0m\u001b[0;34m,\u001b[0m \u001b[0;36m16\u001b[0m\u001b[0;34m:\u001b[0m \u001b[0;34m[\u001b[0m\u001b[0;34m]\u001b[0m\u001b[0;34m,\u001b[0m \u001b[0;36m32\u001b[0m\u001b[0;34m:\u001b[0m \u001b[0;34m[\u001b[0m\u001b[0;34m]\u001b[0m\u001b[0;34m,\u001b[0m \u001b[0;36m64\u001b[0m\u001b[0;34m:\u001b[0m\u001b[0;34m[\u001b[0m\u001b[0;34m]\u001b[0m \u001b[0;34m}\u001b[0m\u001b[0;34m\u001b[0m\u001b[0m\n\u001b[1;32m      3\u001b[0m \u001b[0;31m#print sorted(np.asarray(d.keys()))\u001b[0m\u001b[0;34m\u001b[0m\u001b[0;34m\u001b[0m\u001b[0m\n\u001b[0;32m----> 4\u001b[0;31m \u001b[0;32mprint\u001b[0m \u001b[0md\u001b[0m\u001b[0;34m[\u001b[0m\u001b[0;36m0\u001b[0m\u001b[0;34m]\u001b[0m\u001b[0;34m\u001b[0m\u001b[0m\n\u001b[0m\u001b[1;32m      5\u001b[0m \u001b[0;32mprint\u001b[0m \u001b[0msorted\u001b[0m\u001b[0;34m(\u001b[0m\u001b[0md\u001b[0m\u001b[0;34m.\u001b[0m\u001b[0mkeys\u001b[0m\u001b[0;34m(\u001b[0m\u001b[0;34m)\u001b[0m\u001b[0;34m)\u001b[0m\u001b[0;34m\u001b[0m\u001b[0m\n",
      "\u001b[0;31mKeyError\u001b[0m: 0"
     ]
    }
   ],
   "source": [
    "\n",
    "d = { 4: [], 8: [], 16: [], 32: [], 64:[] }\n",
    "#print sorted(np.asarray(d.keys()))\n",
    "print sorted(d.keys())"
   ]
  },
  {
   "cell_type": "code",
   "execution_count": null,
   "metadata": {
    "collapsed": true
   },
   "outputs": [],
   "source": []
  }
 ],
 "metadata": {
  "kernelspec": {
   "display_name": "Python 2",
   "language": "python",
   "name": "python2"
  },
  "language_info": {
   "codemirror_mode": {
    "name": "ipython",
    "version": 2
   },
   "file_extension": ".py",
   "mimetype": "text/x-python",
   "name": "python",
   "nbconvert_exporter": "python",
   "pygments_lexer": "ipython2",
   "version": "2.7.14"
  }
 },
 "nbformat": 4,
 "nbformat_minor": 2
}
