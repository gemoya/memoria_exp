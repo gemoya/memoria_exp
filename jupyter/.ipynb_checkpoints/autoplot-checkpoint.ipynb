{
 "cells": [
  {
   "cell_type": "code",
   "execution_count": 6,
   "metadata": {
    "collapsed": true
   },
   "outputs": [],
   "source": [
    "import matplotlib.pyplot as plt\n",
    "import matplotlib.patches as mpatches\n",
    "import numpy as np\n",
    "import os\n"
   ]
  },
  {
   "cell_type": "code",
   "execution_count": 15,
   "metadata": {
    "collapsed": true
   },
   "outputs": [],
   "source": [
    "BASE_WORKDIR='data/iops/'\n",
    "VAR_WORKDIR='gluster/host/test_bs/'\n",
    "WORKDIR=BASE_WORKDIR+VAR_WORKDIR"
   ]
  },
  {
   "cell_type": "code",
   "execution_count": 51,
   "metadata": {},
   "outputs": [
    {
     "name": "stdout",
     "output_type": "stream",
     "text": [
      "iops_4\n",
      "1233\n",
      "iops_3\n",
      "1245\n",
      "iops_2\n",
      "1225\n",
      "iops_1\n",
      "1234\n",
      "[1233 1245 1225 1234]\n",
      "4937\n",
      "1234.25\n",
      "7.11951543295\n"
     ]
    }
   ],
   "source": [
    "############### gluster test on block size, per host, per pod\n",
    "#bs_vars= [\"4\", \"8\", \"16\", \"32\", \"64\"]\n",
    "\n",
    "\n",
    "bs_read_dict = { \"4\": [], \"8\": [], \"16\": [], \"32\": [], \"64\": [] }\n",
    "bs_vars = [\"8\"]\n",
    "for var in bs_vars:\n",
    "    path = WORKDIR + var + '/read/'\n",
    "    for filename in os.listdir(path):\n",
    "        \n",
    "        print filename\n",
    "        f = open(path + filename, 'r')\n",
    "        value = f.read().strip('\\n')\n",
    "        bs_dict[var].append(int(value))\n",
    "        print value\n",
    "        \n",
    "        f.close()\n",
    "        \n",
    "    path = WORKDIR + var + '/write/'\n",
    "    for filename in os.listdir(path):\n",
    "        \n",
    "        print filename\n",
    "        f = open(path + filename, 'r')\n",
    "        value = f.read().strip('\\n')\n",
    "        bs_dict[var].append(int(value))\n",
    "        print value\n",
    "        \n",
    "        f.close()\n",
    "        \n",
    "        \n",
    "\n",
    "print np.array(bs_dict[\"8\"])\n",
    "print np.sum(np.array(bs_dict[\"8\"]))\n",
    "print np.mean(np.array(bs_dict[\"8\"]))\n",
    "print np.std(np.array(bs_dict[\"8\"]))\n",
    "\n",
    "\n",
    "#for var in bs_vars:\n",
    "#    path = WORKDIR + var + '/write/'\n",
    "#    for filename in os.listdir(path):\n",
    "        \n",
    "\n"
   ]
  },
  {
   "cell_type": "code",
   "execution_count": 53,
   "metadata": {
    "collapsed": true
   },
   "outputs": [],
   "source": [
    "\n",
    "host_bs_read = { \"4\": [], \"8\": [], \"16\": [], \"32\": [], \"64\": [] }\n",
    "host_bs_write = { \"4\": [], \"8\": [], \"16\": [], \"32\": [], \"64\": [] }\n",
    "bs_vars = [\"8\"]\n",
    "\n",
    "for var in bs_vars:\n",
    "    path = WORKDIR + var + '/read/'\n",
    "    for filename in os.listdir(path):\n",
    "        f = open(path + filename, 'r')\n",
    "        value = f.read().strip('\\n')\n",
    "        host_bs_read[var].append(int(value))\n",
    "        f.close()\n",
    "        \n",
    "    path = WORKDIR + var + '/write/'\n",
    "    for filename in os.listdir(path):\n",
    "        f = open(path + filename, 'r')\n",
    "        value = f.read().strip('\\n')\n",
    "        host_bs_write[var].append(int(value))\n",
    "        f.close()"
   ]
  },
  {
   "cell_type": "code",
   "execution_count": null,
   "metadata": {
    "collapsed": true
   },
   "outputs": [],
   "source": [
    "host_bs_read_means = { \"4\": [], \"8\": [], \"16\": [], \"32\": [], \"64\": [] }\n",
    "host_bs_write_means = { \"4\": [], \"8\": [], \"16\": [], \"32\": [], \"64\": [] }\n",
    "\n",
    "host_bs_read_std = { \"4\": [], \"8\": [], \"16\": [], \"32\": [], \"64\": [] }\n",
    "host_bs_write_std = { \"4\": [], \"8\": [], \"16\": [], \"32\": [], \"64\": [] }"
   ]
  },
  {
   "cell_type": "code",
   "execution_count": null,
   "metadata": {
    "collapsed": true
   },
   "outputs": [],
   "source": [
    "# take sample\n",
    "\n"
   ]
  },
  {
   "cell_type": "code",
   "execution_count": null,
   "metadata": {
    "collapsed": true
   },
   "outputs": [],
   "source": []
  },
  {
   "cell_type": "code",
   "execution_count": null,
   "metadata": {
    "collapsed": true
   },
   "outputs": [],
   "source": []
  }
 ],
 "metadata": {
  "kernelspec": {
   "display_name": "Python 2",
   "language": "python",
   "name": "python2"
  },
  "language_info": {
   "codemirror_mode": {
    "name": "ipython",
    "version": 2
   },
   "file_extension": ".py",
   "mimetype": "text/x-python",
   "name": "python",
   "nbconvert_exporter": "python",
   "pygments_lexer": "ipython2",
   "version": "2.7.14"
  }
 },
 "nbformat": 4,
 "nbformat_minor": 2
}
